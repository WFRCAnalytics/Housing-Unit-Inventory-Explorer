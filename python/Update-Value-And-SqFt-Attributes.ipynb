{
 "cells": [
  {
   "cell_type": "code",
   "execution_count": 118,
   "metadata": {},
   "outputs": [],
   "source": [
    "import arcpy\n",
    "from arcpy import env\n",
    "import os\n",
    "import numpy as np\n",
    "from arcgis import GIS\n",
    "from arcgis.features import GeoAccessor\n",
    "from arcgis.features import GeoSeriesAccessor\n",
    "import pandas as pd\n",
    "\n",
    "arcpy.env.overwriteOutput = True\n",
    "arcpy.env.parallelProcessingFactor = \"90%\"\n",
    "\n",
    "# show all columns\n",
    "pd.options.display.max_columns = None\n",
    "\n",
    "# pd.pivot_table(df, values='a', index='b', columns='c', aggfunc='sum', fill_value=0)\n",
    "# pd.DataFrame.spatial.from_featureclass(???)  \n",
    "# df.spatial.to_featureclass(location=???,sanitize_columns=False)  \n",
    "\n",
    "# gsa = arcgis.features.GeoSeriesAccessor(df['SHAPE'])  \n",
    "# df['AREA'] = gsa.area  # KNOW YOUR UNITS"
   ]
  },
  {
   "cell_type": "code",
   "execution_count": 119,
   "metadata": {},
   "outputs": [],
   "source": [
    "# fill NA values in Spatially enabled dataframes (ignores SHAPE column)\n",
    "def fill_na_sedf(df_with_shape_column, fill_value=0):\n",
    "    if 'SHAPE' in list(df_with_shape_column.columns):\n",
    "        df = df_with_shape_column.copy()\n",
    "        shape_column = df['SHAPE'].copy()\n",
    "        del df['SHAPE']\n",
    "        return df.fillna(fill_value).merge(shape_column,left_index=True, right_index=True, how='inner')\n",
    "    else:\n",
    "        raise Exception(\"Dataframe does not include 'SHAPE' column\")"
   ]
  },
  {
   "cell_type": "code",
   "execution_count": 120,
   "metadata": {},
   "outputs": [],
   "source": [
    "if not os.path.exists('Outputs'):\n",
    "    os.makedirs('Outputs')\n",
    "    \n",
    "outputs = ['.\\\\Outputs', \"scratch.gdb\", 'housing_unit_inventory_2022_20240718.gdb']\n",
    "gdb = os.path.join(outputs[0], outputs[1])\n",
    "gdb2 = os.path.join(outputs[0], outputs[2])\n",
    "\n",
    "if not arcpy.Exists(gdb):\n",
    "    arcpy.CreateFileGDB_management(outputs[0], outputs[1])\n",
    "\n",
    "if not arcpy.Exists(gdb2):\n",
    "    arcpy.CreateFileGDB_management(outputs[0], outputs[2])"
   ]
  },
  {
   "cell_type": "code",
   "execution_count": 121,
   "metadata": {},
   "outputs": [],
   "source": [
    "parcels_davis = r'E:\\Tasks\\Housing_Unit_Inventory_Update\\2022-Davis\\Davis_LIR_Parcels_2022.gdb\\Parcels_Davis_LIR'\n",
    "parcels_weber = r'E:\\Tasks\\Housing_Unit_Inventory_Update\\2022-Weber\\Weber_Parcels_LIR_2022.gdb\\Parcels_Weber_LIR_utm12'\n",
    "parcels_sl = r'E:\\Tasks\\Housing_Unit_Inventory_Update\\2022-Salt-Lake\\Salt_Lake_LIR_Parcels_2022.gdb\\Parcels_SaltLake_LIR_utm12'\n",
    "housing_unit_inventory = r'E:\\Tasks\\Housing_Unit_Inventory_Update\\housing_unit_inventory_2022_20240523.gdb\\housing_unit_inventory_2022'"
   ]
  },
  {
   "cell_type": "code",
   "execution_count": 122,
   "metadata": {},
   "outputs": [],
   "source": [
    "pts_weber = arcpy.management.FeatureToPoint(parcels_weber, os.path.join(gdb, 'parcels_weber_pts'), \"INSIDE\")\n",
    "pts_davis = arcpy.management.FeatureToPoint(parcels_davis, os.path.join(gdb, 'parcels_davis_pts'), \"INSIDE\")\n",
    "pts_sl = arcpy.management.FeatureToPoint(parcels_sl, os.path.join(gdb, 'parcels_sl_pts'), \"INSIDE\")"
   ]
  },
  {
   "cell_type": "code",
   "execution_count": 123,
   "metadata": {},
   "outputs": [],
   "source": [
    "# get the unit id on each parcel point\n",
    "target_features = pts_weber\n",
    "join_features = housing_unit_inventory\n",
    "output_features = os.path.join(gdb, \"weber_sj\")\n",
    "fieldmappings = arcpy.FieldMappings()\n",
    "fieldmappings.addTable(target_features)\n",
    "fieldmappings.addTable(join_features)\n",
    "weber_sj = arcpy.SpatialJoin_analysis(target_features, join_features, output_features,'JOIN_ONE_TO_ONE', \"KEEP_ALL\", fieldmappings, \"INTERSECT\")\n",
    "\n",
    "target_features = pts_davis\n",
    "join_features = housing_unit_inventory\n",
    "output_features = os.path.join(gdb, \"davis_sj\")\n",
    "fieldmappings = arcpy.FieldMappings()\n",
    "fieldmappings.addTable(target_features)\n",
    "fieldmappings.addTable(join_features)\n",
    "davis_sj = arcpy.SpatialJoin_analysis(target_features, join_features, output_features,'JOIN_ONE_TO_ONE', \"KEEP_ALL\", fieldmappings, \"INTERSECT\")\n",
    "\n",
    "target_features = pts_sl\n",
    "join_features = housing_unit_inventory\n",
    "output_features = os.path.join(gdb, \"sl_sj\")\n",
    "fieldmappings = arcpy.FieldMappings()\n",
    "fieldmappings.addTable(target_features)\n",
    "fieldmappings.addTable(join_features)\n",
    "sl_sj = arcpy.SpatialJoin_analysis(target_features, join_features, output_features,'JOIN_ONE_TO_ONE', \"KEEP_ALL\", fieldmappings, \"INTERSECT\")"
   ]
  },
  {
   "cell_type": "code",
   "execution_count": 124,
   "metadata": {},
   "outputs": [],
   "source": [
    "df_weber = pd.DataFrame.spatial.from_featureclass(weber_sj[0])\n",
    "df_davis = pd.DataFrame.spatial.from_featureclass(davis_sj[0])\n",
    "df_sl = pd.DataFrame.spatial.from_featureclass(sl_sj[0])"
   ]
  },
  {
   "cell_type": "code",
   "execution_count": 125,
   "metadata": {},
   "outputs": [],
   "source": [
    "df_weber = df_weber[['PARCEL_ID','TOTAL_MKT_VALUE','BLDG_SQFT','UNIT_ID','SHAPE']].copy()\n",
    "df_davis = df_davis[['PARCEL_ID', 'TOTAL_MKT_VALUE','BLDG_SQFT','UNIT_ID','SHAPE']].copy()\n",
    "df_sl = df_sl[['PARCEL_ID','TOTAL_MKT_VALUE','BLDG_SQFT','UNIT_ID','SHAPE']].copy()"
   ]
  },
  {
   "cell_type": "code",
   "execution_count": 126,
   "metadata": {},
   "outputs": [],
   "source": [
    "df_weber = df_weber[df_weber['UNIT_ID'].isna() == False].copy()\n",
    "df_davis = df_davis[df_davis['UNIT_ID'].isna() == False].copy()\n",
    "df_sl = df_sl[df_sl['UNIT_ID'].isna() == False].copy()"
   ]
  },
  {
   "cell_type": "code",
   "execution_count": 127,
   "metadata": {},
   "outputs": [],
   "source": [
    "dups_weber = df_weber[df_weber.duplicated(subset=['PARCEL_ID','UNIT_ID', 'TOTAL_MKT_VALUE'], keep=False)]\n",
    "df_weber_dups_removed = df_weber.drop_duplicates(subset=['PARCEL_ID', 'TOTAL_MKT_VALUE'])\n",
    "\n",
    "dups_davis = df_davis[df_davis.duplicated(subset=['PARCEL_ID','UNIT_ID', 'TOTAL_MKT_VALUE'], keep=False)]\n",
    "df_davis_dups_removed = df_davis.drop_duplicates(subset=['PARCEL_ID', 'TOTAL_MKT_VALUE'])\n",
    "\n",
    "dups_sl = df_sl[df_sl.duplicated(subset=['PARCEL_ID','UNIT_ID', 'TOTAL_MKT_VALUE'], keep=False)]\n",
    "df_sl_dups_removed = df_sl.drop_duplicates(subset=['PARCEL_ID','UNIT_ID', 'TOTAL_MKT_VALUE'])"
   ]
  },
  {
   "cell_type": "code",
   "execution_count": 128,
   "metadata": {},
   "outputs": [],
   "source": [
    "df_wfrc_dups_removed = pd.concat([df_weber_dups_removed, df_davis_dups_removed, df_sl_dups_removed])\n",
    "dups_wfrc = pd.concat([dups_weber, dups_davis, dups_sl])"
   ]
  },
  {
   "cell_type": "code",
   "execution_count": 129,
   "metadata": {},
   "outputs": [
    {
     "data": {
      "text/plain": [
       "'e:\\\\Projects\\\\Housing-Unit-Inventory-Explorer\\\\python\\\\Outputs\\\\scratch.gdb\\\\duplicate_values'"
      ]
     },
     "execution_count": 129,
     "metadata": {},
     "output_type": "execute_result"
    }
   ],
   "source": [
    "df_wfrc_dups_removed.spatial.to_featureclass(location=os.path.join(gdb, 'wfrc_parcel_data'),sanitize_columns=False)\n",
    "dups_wfrc.spatial.to_featureclass(location=os.path.join(gdb, 'duplicate_values'),sanitize_columns=False)"
   ]
  },
  {
   "cell_type": "code",
   "execution_count": 130,
   "metadata": {},
   "outputs": [],
   "source": [
    "target_features = housing_unit_inventory\n",
    "join_features = os.path.join(gdb, 'wfrc_parcel_data')\n",
    "output_features = os.path.join(gdb, \"wfrc_sj\")\n",
    "fieldmappings = arcpy.FieldMappings()\n",
    "fieldmappings.addTable(target_features)\n",
    "fieldmappings.addTable(join_features)\n",
    "\n",
    "# total market value\n",
    "fieldindex = fieldmappings.findFieldMapIndex('TOTAL_MKT_VALUE')\n",
    "fieldmap = fieldmappings.getFieldMap(fieldindex)\n",
    "fieldmap.mergeRule = 'Sum'\n",
    "fieldmappings.replaceFieldMap(fieldindex, fieldmap)\n",
    "\n",
    "# square ft\n",
    "fieldindex = fieldmappings.findFieldMapIndex('BLDG_SQFT')\n",
    "fieldmap = fieldmappings.getFieldMap(fieldindex)\n",
    "fieldmap.mergeRule = 'Sum'\n",
    "fieldmappings.replaceFieldMap(fieldindex, fieldmap)\n",
    "\n",
    "wfrc_sj = arcpy.SpatialJoin_analysis(target_features, join_features, output_features,'JOIN_ONE_TO_ONE', \"KEEP_ALL\", fieldmappings, \"INTERSECT\")\n",
    "wfrc_sj_df = pd.DataFrame.spatial.from_featureclass(wfrc_sj[0])[['TOTAL_MKT_VALUE','BLDG_SQFT','UNIT_ID']].copy()"
   ]
  },
  {
   "cell_type": "code",
   "execution_count": 148,
   "metadata": {},
   "outputs": [],
   "source": [
    "hui_df = pd.DataFrame.spatial.from_featureclass(housing_unit_inventory)\n",
    "hui_df = hui_df.merge(wfrc_sj_df, on='UNIT_ID', how='left')\n",
    "# hui_df.loc[hui_df['TOTAL_MKT_VALUE'] > 0, 'TMV_DIFF'] = hui_df['TOTAL_MKT_VALUE'] - hui_df['TOT_VALUE']\n",
    "# hui_df.loc[hui_df['BLDG_SQFT'] > 0, 'SQFT_DIFF'] = hui_df['BLDG_SQFT'] - hui_df['TOT_BD_FT2']\n",
    "hui_df.loc[hui_df['TOTAL_MKT_VALUE'] > 0, 'TOT_VALUE'] = round(hui_df['TOTAL_MKT_VALUE'])\n",
    "hui_df.loc[hui_df['BLDG_SQFT'] > 0, 'TOT_BD_FT2'] = round(hui_df['BLDG_SQFT'])\n",
    "hui_df.drop(['TOTAL_MKT_VALUE','BLDG_SQFT'], axis=1, inplace=True)\n"
   ]
  },
  {
   "cell_type": "code",
   "execution_count": 151,
   "metadata": {},
   "outputs": [
    {
     "name": "stderr",
     "output_type": "stream",
     "text": [
      "Could not insert the row because of error message: value #9 - unsupported type: NAType. Recheck your data.\n"
     ]
    },
    {
     "data": {
      "text/plain": [
       "'e:\\\\Projects\\\\Housing-Unit-Inventory-Explorer\\\\python\\\\Outputs\\\\housing_unit_inventory_2022_20240718.gdb\\\\housing_unit_inventory_2022'"
      ]
     },
     "execution_count": 151,
     "metadata": {},
     "output_type": "execute_result"
    }
   ],
   "source": [
    "hui_df.spatial.to_featureclass(location=os.path.join(gdb2, 'housing_unit_inventory_2022'), sanitize_columns=False)  "
   ]
  }
 ],
 "metadata": {
  "kernelspec": {
   "display_name": "Python 3.7.11",
   "language": "python",
   "name": "python3"
  },
  "language_info": {
   "codemirror_mode": {
    "name": "ipython",
    "version": 3
   },
   "file_extension": ".py",
   "mimetype": "text/x-python",
   "name": "python",
   "nbconvert_exporter": "python",
   "pygments_lexer": "ipython3",
   "version": "3.9.11"
  },
  "orig_nbformat": 4,
  "vscode": {
   "interpreter": {
    "hash": "3245673af07dcc28bdd829afb187282e9288a1f8195a5928b70ecba6e5973721"
   }
  }
 },
 "nbformat": 4,
 "nbformat_minor": 2
}
